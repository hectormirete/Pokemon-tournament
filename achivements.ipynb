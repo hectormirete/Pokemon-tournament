{
 "cells": [
  {
   "cell_type": "code",
   "id": "initial_id",
   "metadata": {
    "collapsed": true,
    "ExecuteTime": {
     "end_time": "2024-11-19T18:11:34.117349Z",
     "start_time": "2024-11-19T18:11:33.663677Z"
    }
   },
   "source": "import pandas as pd",
   "outputs": [],
   "execution_count": 1
  },
  {
   "metadata": {
    "ExecuteTime": {
     "end_time": "2024-11-19T18:13:16.246810Z",
     "start_time": "2024-11-19T18:13:16.236368Z"
    }
   },
   "cell_type": "code",
   "source": [
    "stats = pd.read_csv('./results/fight_stats.csv', names=[\"team\", \"pokemon\", \"stat_name\", \"value\"])\n",
    "stats = stats.groupby([\"team\", \"pokemon\", \"stat_name\"]).sum().reset_index()\n",
    "stats.head()"
   ],
   "id": "58784b4f6354c7f3",
   "outputs": [
    {
     "data": {
      "text/plain": [
       "            team     pokemon               stat_name  value\n",
       "0  example_team1  Butterfree          Count_struggle      0\n",
       "1  example_team1  Butterfree    Total_buffs_received      0\n",
       "2  example_team1  Butterfree       Total_damage_done   1921\n",
       "3  example_team1  Butterfree   Total_damage_received   4768\n",
       "4  example_team1  Butterfree  Total_debuffs_received      5"
      ],
      "text/html": [
       "<div>\n",
       "<style scoped>\n",
       "    .dataframe tbody tr th:only-of-type {\n",
       "        vertical-align: middle;\n",
       "    }\n",
       "\n",
       "    .dataframe tbody tr th {\n",
       "        vertical-align: top;\n",
       "    }\n",
       "\n",
       "    .dataframe thead th {\n",
       "        text-align: right;\n",
       "    }\n",
       "</style>\n",
       "<table border=\"1\" class=\"dataframe\">\n",
       "  <thead>\n",
       "    <tr style=\"text-align: right;\">\n",
       "      <th></th>\n",
       "      <th>team</th>\n",
       "      <th>pokemon</th>\n",
       "      <th>stat_name</th>\n",
       "      <th>value</th>\n",
       "    </tr>\n",
       "  </thead>\n",
       "  <tbody>\n",
       "    <tr>\n",
       "      <th>0</th>\n",
       "      <td>example_team1</td>\n",
       "      <td>Butterfree</td>\n",
       "      <td>Count_struggle</td>\n",
       "      <td>0</td>\n",
       "    </tr>\n",
       "    <tr>\n",
       "      <th>1</th>\n",
       "      <td>example_team1</td>\n",
       "      <td>Butterfree</td>\n",
       "      <td>Total_buffs_received</td>\n",
       "      <td>0</td>\n",
       "    </tr>\n",
       "    <tr>\n",
       "      <th>2</th>\n",
       "      <td>example_team1</td>\n",
       "      <td>Butterfree</td>\n",
       "      <td>Total_damage_done</td>\n",
       "      <td>1921</td>\n",
       "    </tr>\n",
       "    <tr>\n",
       "      <th>3</th>\n",
       "      <td>example_team1</td>\n",
       "      <td>Butterfree</td>\n",
       "      <td>Total_damage_received</td>\n",
       "      <td>4768</td>\n",
       "    </tr>\n",
       "    <tr>\n",
       "      <th>4</th>\n",
       "      <td>example_team1</td>\n",
       "      <td>Butterfree</td>\n",
       "      <td>Total_debuffs_received</td>\n",
       "      <td>5</td>\n",
       "    </tr>\n",
       "  </tbody>\n",
       "</table>\n",
       "</div>"
      ]
     },
     "execution_count": 4,
     "metadata": {},
     "output_type": "execute_result"
    }
   ],
   "execution_count": 4
  },
  {
   "metadata": {
    "ExecuteTime": {
     "end_time": "2024-11-19T18:17:11.308071Z",
     "start_time": "2024-11-19T18:17:11.304397Z"
    }
   },
   "cell_type": "code",
   "source": "stats.stat_name.unique()",
   "id": "55a2c32c68b1c4ec",
   "outputs": [
    {
     "data": {
      "text/plain": [
       "array(['Count_struggle', 'Total_buffs_received', 'Total_damage_done',\n",
       "       'Total_damage_received', 'Total_debuffs_received', 'Total_kills',\n",
       "       'Total_misses', 'Total_moves_used', 'Total_no_effect',\n",
       "       'Total_not_effective', 'Total_one_shot', 'Total_super_effective',\n",
       "       'Total_turns'], dtype=object)"
      ]
     },
     "execution_count": 10,
     "metadata": {},
     "output_type": "execute_result"
    }
   ],
   "execution_count": 10
  },
  {
   "metadata": {
    "ExecuteTime": {
     "end_time": "2024-11-19T18:18:12.269363Z",
     "start_time": "2024-11-19T18:18:12.261653Z"
    }
   },
   "cell_type": "code",
   "source": [
    "top3_super_efective_moves_by_team = stats[stats.stat_name == \"Total_super_effective\"].groupby([\"team\"]).sum().sort_values(by=\"value\", ascending=False).reset_index()[[\"team\", \"value\"]].head(3)\n",
    "top3_super_efective_moves_by_team"
   ],
   "id": "f25c97449f743045",
   "outputs": [
    {
     "data": {
      "text/plain": [
       "            team  value\n",
       "0  example_team1    139\n",
       "1  example_team2     52\n",
       "2  example_team4     23"
      ],
      "text/html": [
       "<div>\n",
       "<style scoped>\n",
       "    .dataframe tbody tr th:only-of-type {\n",
       "        vertical-align: middle;\n",
       "    }\n",
       "\n",
       "    .dataframe tbody tr th {\n",
       "        vertical-align: top;\n",
       "    }\n",
       "\n",
       "    .dataframe thead th {\n",
       "        text-align: right;\n",
       "    }\n",
       "</style>\n",
       "<table border=\"1\" class=\"dataframe\">\n",
       "  <thead>\n",
       "    <tr style=\"text-align: right;\">\n",
       "      <th></th>\n",
       "      <th>team</th>\n",
       "      <th>value</th>\n",
       "    </tr>\n",
       "  </thead>\n",
       "  <tbody>\n",
       "    <tr>\n",
       "      <th>0</th>\n",
       "      <td>example_team1</td>\n",
       "      <td>139</td>\n",
       "    </tr>\n",
       "    <tr>\n",
       "      <th>1</th>\n",
       "      <td>example_team2</td>\n",
       "      <td>52</td>\n",
       "    </tr>\n",
       "    <tr>\n",
       "      <th>2</th>\n",
       "      <td>example_team4</td>\n",
       "      <td>23</td>\n",
       "    </tr>\n",
       "  </tbody>\n",
       "</table>\n",
       "</div>"
      ]
     },
     "execution_count": 12,
     "metadata": {},
     "output_type": "execute_result"
    }
   ],
   "execution_count": 12
  },
  {
   "metadata": {
    "ExecuteTime": {
     "end_time": "2024-11-19T18:18:46.832312Z",
     "start_time": "2024-11-19T18:18:46.826314Z"
    }
   },
   "cell_type": "code",
   "source": [
    "top3_not_efective_moves_by_team = stats[stats.stat_name == \"Total_not_effective\"].groupby([\"team\"]).sum().sort_values(by=\"value\", ascending=False).reset_index()[[\"team\", \"value\"]].head(3)\n",
    "top3_not_efective_moves_by_team"
   ],
   "id": "f0727b94812113df",
   "outputs": [
    {
     "data": {
      "text/plain": [
       "            team  value\n",
       "0  example_team3    633\n",
       "1  example_team1    234\n",
       "2  example_team2    213"
      ],
      "text/html": [
       "<div>\n",
       "<style scoped>\n",
       "    .dataframe tbody tr th:only-of-type {\n",
       "        vertical-align: middle;\n",
       "    }\n",
       "\n",
       "    .dataframe tbody tr th {\n",
       "        vertical-align: top;\n",
       "    }\n",
       "\n",
       "    .dataframe thead th {\n",
       "        text-align: right;\n",
       "    }\n",
       "</style>\n",
       "<table border=\"1\" class=\"dataframe\">\n",
       "  <thead>\n",
       "    <tr style=\"text-align: right;\">\n",
       "      <th></th>\n",
       "      <th>team</th>\n",
       "      <th>value</th>\n",
       "    </tr>\n",
       "  </thead>\n",
       "  <tbody>\n",
       "    <tr>\n",
       "      <th>0</th>\n",
       "      <td>example_team3</td>\n",
       "      <td>633</td>\n",
       "    </tr>\n",
       "    <tr>\n",
       "      <th>1</th>\n",
       "      <td>example_team1</td>\n",
       "      <td>234</td>\n",
       "    </tr>\n",
       "    <tr>\n",
       "      <th>2</th>\n",
       "      <td>example_team2</td>\n",
       "      <td>213</td>\n",
       "    </tr>\n",
       "  </tbody>\n",
       "</table>\n",
       "</div>"
      ]
     },
     "execution_count": 13,
     "metadata": {},
     "output_type": "execute_result"
    }
   ],
   "execution_count": 13
  },
  {
   "metadata": {
    "ExecuteTime": {
     "end_time": "2024-11-19T18:19:07.819278Z",
     "start_time": "2024-11-19T18:19:07.812180Z"
    }
   },
   "cell_type": "code",
   "source": [
    "top3_no_effect_moves_by_team = stats[stats.stat_name == \"Total_no_effect\"].groupby([\"team\"]).sum().sort_values(by=\"value\", ascending=False).reset_index()[[\"team\", \"value\"]].head(3)\n",
    "top3_no_effect_moves_by_team"
   ],
   "id": "9a1583bcefc7fc05",
   "outputs": [
    {
     "data": {
      "text/plain": [
       "            team  value\n",
       "0  example_team1      0\n",
       "1  example_team2      0\n",
       "2  example_team3      0"
      ],
      "text/html": [
       "<div>\n",
       "<style scoped>\n",
       "    .dataframe tbody tr th:only-of-type {\n",
       "        vertical-align: middle;\n",
       "    }\n",
       "\n",
       "    .dataframe tbody tr th {\n",
       "        vertical-align: top;\n",
       "    }\n",
       "\n",
       "    .dataframe thead th {\n",
       "        text-align: right;\n",
       "    }\n",
       "</style>\n",
       "<table border=\"1\" class=\"dataframe\">\n",
       "  <thead>\n",
       "    <tr style=\"text-align: right;\">\n",
       "      <th></th>\n",
       "      <th>team</th>\n",
       "      <th>value</th>\n",
       "    </tr>\n",
       "  </thead>\n",
       "  <tbody>\n",
       "    <tr>\n",
       "      <th>0</th>\n",
       "      <td>example_team1</td>\n",
       "      <td>0</td>\n",
       "    </tr>\n",
       "    <tr>\n",
       "      <th>1</th>\n",
       "      <td>example_team2</td>\n",
       "      <td>0</td>\n",
       "    </tr>\n",
       "    <tr>\n",
       "      <th>2</th>\n",
       "      <td>example_team3</td>\n",
       "      <td>0</td>\n",
       "    </tr>\n",
       "  </tbody>\n",
       "</table>\n",
       "</div>"
      ]
     },
     "execution_count": 14,
     "metadata": {},
     "output_type": "execute_result"
    }
   ],
   "execution_count": 14
  },
  {
   "metadata": {
    "ExecuteTime": {
     "end_time": "2024-11-19T18:21:40.374899Z",
     "start_time": "2024-11-19T18:21:40.368557Z"
    }
   },
   "cell_type": "code",
   "source": [
    "top3_misses_by_team = stats[stats.stat_name == \"Total_misses\"].groupby([\"team\"]).sum().sort_values(by=\"value\", ascending=False).reset_index()[[\"team\", \"value\"]].head(3)\n",
    "top3_misses_by_team"
   ],
   "id": "4ed68554abafee07",
   "outputs": [
    {
     "data": {
      "text/plain": [
       "            team  value\n",
       "0  example_team3    166\n",
       "1  example_team2     85\n",
       "2  example_team1     51"
      ],
      "text/html": [
       "<div>\n",
       "<style scoped>\n",
       "    .dataframe tbody tr th:only-of-type {\n",
       "        vertical-align: middle;\n",
       "    }\n",
       "\n",
       "    .dataframe tbody tr th {\n",
       "        vertical-align: top;\n",
       "    }\n",
       "\n",
       "    .dataframe thead th {\n",
       "        text-align: right;\n",
       "    }\n",
       "</style>\n",
       "<table border=\"1\" class=\"dataframe\">\n",
       "  <thead>\n",
       "    <tr style=\"text-align: right;\">\n",
       "      <th></th>\n",
       "      <th>team</th>\n",
       "      <th>value</th>\n",
       "    </tr>\n",
       "  </thead>\n",
       "  <tbody>\n",
       "    <tr>\n",
       "      <th>0</th>\n",
       "      <td>example_team3</td>\n",
       "      <td>166</td>\n",
       "    </tr>\n",
       "    <tr>\n",
       "      <th>1</th>\n",
       "      <td>example_team2</td>\n",
       "      <td>85</td>\n",
       "    </tr>\n",
       "    <tr>\n",
       "      <th>2</th>\n",
       "      <td>example_team1</td>\n",
       "      <td>51</td>\n",
       "    </tr>\n",
       "  </tbody>\n",
       "</table>\n",
       "</div>"
      ]
     },
     "execution_count": 18,
     "metadata": {},
     "output_type": "execute_result"
    }
   ],
   "execution_count": 18
  },
  {
   "metadata": {
    "ExecuteTime": {
     "end_time": "2024-11-19T18:19:39.727057Z",
     "start_time": "2024-11-19T18:19:39.721510Z"
    }
   },
   "cell_type": "code",
   "source": [
    "top3_killer_teams = stats[stats.stat_name == \"Total_kills\"].groupby([\"team\"]).sum().sort_values(by=\"value\", ascending=False).reset_index()[[\"team\", \"value\"]].head(3)\n",
    "top3_killer_teams"
   ],
   "id": "54f56c63b9b6d841",
   "outputs": [
    {
     "data": {
      "text/plain": [
       "            team  value\n",
       "0  example_team3    179\n",
       "1  example_team2    170\n",
       "2  example_team4    133"
      ],
      "text/html": [
       "<div>\n",
       "<style scoped>\n",
       "    .dataframe tbody tr th:only-of-type {\n",
       "        vertical-align: middle;\n",
       "    }\n",
       "\n",
       "    .dataframe tbody tr th {\n",
       "        vertical-align: top;\n",
       "    }\n",
       "\n",
       "    .dataframe thead th {\n",
       "        text-align: right;\n",
       "    }\n",
       "</style>\n",
       "<table border=\"1\" class=\"dataframe\">\n",
       "  <thead>\n",
       "    <tr style=\"text-align: right;\">\n",
       "      <th></th>\n",
       "      <th>team</th>\n",
       "      <th>value</th>\n",
       "    </tr>\n",
       "  </thead>\n",
       "  <tbody>\n",
       "    <tr>\n",
       "      <th>0</th>\n",
       "      <td>example_team3</td>\n",
       "      <td>179</td>\n",
       "    </tr>\n",
       "    <tr>\n",
       "      <th>1</th>\n",
       "      <td>example_team2</td>\n",
       "      <td>170</td>\n",
       "    </tr>\n",
       "    <tr>\n",
       "      <th>2</th>\n",
       "      <td>example_team4</td>\n",
       "      <td>133</td>\n",
       "    </tr>\n",
       "  </tbody>\n",
       "</table>\n",
       "</div>"
      ]
     },
     "execution_count": 15,
     "metadata": {},
     "output_type": "execute_result"
    }
   ],
   "execution_count": 15
  },
  {
   "metadata": {
    "ExecuteTime": {
     "end_time": "2024-11-19T18:20:02.917342Z",
     "start_time": "2024-11-19T18:20:02.909881Z"
    }
   },
   "cell_type": "code",
   "source": [
    "top3_one_shot_teams = stats[stats.stat_name == \"Total_one_shot\"].groupby([\"team\"]).sum().sort_values(by=\"value\", ascending=False).reset_index()[[\"team\", \"value\"]].head(3)\n",
    "top3_one_shot_teams"
   ],
   "id": "e645f1c27bb63683",
   "outputs": [
    {
     "data": {
      "text/plain": [
       "            team  value\n",
       "0  example_team1      9\n",
       "1  example_team2      0\n",
       "2  example_team3      0"
      ],
      "text/html": [
       "<div>\n",
       "<style scoped>\n",
       "    .dataframe tbody tr th:only-of-type {\n",
       "        vertical-align: middle;\n",
       "    }\n",
       "\n",
       "    .dataframe tbody tr th {\n",
       "        vertical-align: top;\n",
       "    }\n",
       "\n",
       "    .dataframe thead th {\n",
       "        text-align: right;\n",
       "    }\n",
       "</style>\n",
       "<table border=\"1\" class=\"dataframe\">\n",
       "  <thead>\n",
       "    <tr style=\"text-align: right;\">\n",
       "      <th></th>\n",
       "      <th>team</th>\n",
       "      <th>value</th>\n",
       "    </tr>\n",
       "  </thead>\n",
       "  <tbody>\n",
       "    <tr>\n",
       "      <th>0</th>\n",
       "      <td>example_team1</td>\n",
       "      <td>9</td>\n",
       "    </tr>\n",
       "    <tr>\n",
       "      <th>1</th>\n",
       "      <td>example_team2</td>\n",
       "      <td>0</td>\n",
       "    </tr>\n",
       "    <tr>\n",
       "      <th>2</th>\n",
       "      <td>example_team3</td>\n",
       "      <td>0</td>\n",
       "    </tr>\n",
       "  </tbody>\n",
       "</table>\n",
       "</div>"
      ]
     },
     "execution_count": 16,
     "metadata": {},
     "output_type": "execute_result"
    }
   ],
   "execution_count": 16
  },
  {
   "metadata": {
    "ExecuteTime": {
     "end_time": "2024-11-19T18:15:39.424755Z",
     "start_time": "2024-11-19T18:15:39.419152Z"
    }
   },
   "cell_type": "code",
   "source": [
    "top3_tankiest_teams = stats[stats.stat_name == \"Total_damage_received\"].groupby([\"team\"]).sum().sort_values(by=\"value\", ascending=False).reset_index()[[\"team\", \"value\"]].head(3)\n",
    "top3_tankiest_teams"
   ],
   "id": "ca49d209b9647af3",
   "outputs": [
    {
     "data": {
      "text/plain": [
       "            team  value\n",
       "0  example_team1  28170\n",
       "1  example_team4  27448\n",
       "2  example_team2  26934"
      ],
      "text/html": [
       "<div>\n",
       "<style scoped>\n",
       "    .dataframe tbody tr th:only-of-type {\n",
       "        vertical-align: middle;\n",
       "    }\n",
       "\n",
       "    .dataframe tbody tr th {\n",
       "        vertical-align: top;\n",
       "    }\n",
       "\n",
       "    .dataframe thead th {\n",
       "        text-align: right;\n",
       "    }\n",
       "</style>\n",
       "<table border=\"1\" class=\"dataframe\">\n",
       "  <thead>\n",
       "    <tr style=\"text-align: right;\">\n",
       "      <th></th>\n",
       "      <th>team</th>\n",
       "      <th>value</th>\n",
       "    </tr>\n",
       "  </thead>\n",
       "  <tbody>\n",
       "    <tr>\n",
       "      <th>0</th>\n",
       "      <td>example_team1</td>\n",
       "      <td>28170</td>\n",
       "    </tr>\n",
       "    <tr>\n",
       "      <th>1</th>\n",
       "      <td>example_team4</td>\n",
       "      <td>27448</td>\n",
       "    </tr>\n",
       "    <tr>\n",
       "      <th>2</th>\n",
       "      <td>example_team2</td>\n",
       "      <td>26934</td>\n",
       "    </tr>\n",
       "  </tbody>\n",
       "</table>\n",
       "</div>"
      ]
     },
     "execution_count": 8,
     "metadata": {},
     "output_type": "execute_result"
    }
   ],
   "execution_count": 8
  },
  {
   "metadata": {
    "ExecuteTime": {
     "end_time": "2024-11-19T18:20:49.868591Z",
     "start_time": "2024-11-19T18:20:49.862368Z"
    }
   },
   "cell_type": "code",
   "source": [
    "top3_n_turns_by_team = stats[stats.stat_name == \"Total_turns\"].groupby([\"team\"]).sum().sort_values(by=\"value\", ascending=False).reset_index()[[\"team\", \"value\"]].head(3)\n",
    "top3_n_turns_by_team"
   ],
   "id": "d684acbfc27c1f90",
   "outputs": [
    {
     "data": {
      "text/plain": [
       "            team  value\n",
       "0  example_team1   1736\n",
       "1  example_team4   1609\n",
       "2  example_team2   1402"
      ],
      "text/html": [
       "<div>\n",
       "<style scoped>\n",
       "    .dataframe tbody tr th:only-of-type {\n",
       "        vertical-align: middle;\n",
       "    }\n",
       "\n",
       "    .dataframe tbody tr th {\n",
       "        vertical-align: top;\n",
       "    }\n",
       "\n",
       "    .dataframe thead th {\n",
       "        text-align: right;\n",
       "    }\n",
       "</style>\n",
       "<table border=\"1\" class=\"dataframe\">\n",
       "  <thead>\n",
       "    <tr style=\"text-align: right;\">\n",
       "      <th></th>\n",
       "      <th>team</th>\n",
       "      <th>value</th>\n",
       "    </tr>\n",
       "  </thead>\n",
       "  <tbody>\n",
       "    <tr>\n",
       "      <th>0</th>\n",
       "      <td>example_team1</td>\n",
       "      <td>1736</td>\n",
       "    </tr>\n",
       "    <tr>\n",
       "      <th>1</th>\n",
       "      <td>example_team4</td>\n",
       "      <td>1609</td>\n",
       "    </tr>\n",
       "    <tr>\n",
       "      <th>2</th>\n",
       "      <td>example_team2</td>\n",
       "      <td>1402</td>\n",
       "    </tr>\n",
       "  </tbody>\n",
       "</table>\n",
       "</div>"
      ]
     },
     "execution_count": 17,
     "metadata": {},
     "output_type": "execute_result"
    }
   ],
   "execution_count": 17
  },
  {
   "metadata": {
    "ExecuteTime": {
     "end_time": "2024-11-19T18:17:17.491496Z",
     "start_time": "2024-11-19T18:17:17.484682Z"
    }
   },
   "cell_type": "code",
   "source": [
    "top3_highest_damage_teams = stats[stats.stat_name == \"Total_damage_done\"].groupby([\"team\"]).sum().sort_values(by=\"value\", ascending=False).reset_index()[[\"team\", \"value\"]].head(3)\n",
    "top3_highest_damage_teams"
   ],
   "id": "826e77106f193532",
   "outputs": [
    {
     "data": {
      "text/plain": [
       "            team  value\n",
       "0  example_team2  29113\n",
       "1  example_team3  27954\n",
       "2  example_team4  23360"
      ],
      "text/html": [
       "<div>\n",
       "<style scoped>\n",
       "    .dataframe tbody tr th:only-of-type {\n",
       "        vertical-align: middle;\n",
       "    }\n",
       "\n",
       "    .dataframe tbody tr th {\n",
       "        vertical-align: top;\n",
       "    }\n",
       "\n",
       "    .dataframe thead th {\n",
       "        text-align: right;\n",
       "    }\n",
       "</style>\n",
       "<table border=\"1\" class=\"dataframe\">\n",
       "  <thead>\n",
       "    <tr style=\"text-align: right;\">\n",
       "      <th></th>\n",
       "      <th>team</th>\n",
       "      <th>value</th>\n",
       "    </tr>\n",
       "  </thead>\n",
       "  <tbody>\n",
       "    <tr>\n",
       "      <th>0</th>\n",
       "      <td>example_team2</td>\n",
       "      <td>29113</td>\n",
       "    </tr>\n",
       "    <tr>\n",
       "      <th>1</th>\n",
       "      <td>example_team3</td>\n",
       "      <td>27954</td>\n",
       "    </tr>\n",
       "    <tr>\n",
       "      <th>2</th>\n",
       "      <td>example_team4</td>\n",
       "      <td>23360</td>\n",
       "    </tr>\n",
       "  </tbody>\n",
       "</table>\n",
       "</div>"
      ]
     },
     "execution_count": 11,
     "metadata": {},
     "output_type": "execute_result"
    }
   ],
   "execution_count": 11
  },
  {
   "metadata": {
    "ExecuteTime": {
     "end_time": "2024-11-19T18:29:12.623978Z",
     "start_time": "2024-11-19T18:29:12.616791Z"
    }
   },
   "cell_type": "code",
   "source": [
    "top3_buffer_teams = stats[stats.stat_name == \"Total_buffs_received\"].groupby([\"team\"]).sum().sort_values(by=\"value\", ascending=False).reset_index()[[\"team\", \"value\"]].head(3)\n",
    "top3_buffer_teams"
   ],
   "id": "9c24f169bdd837f1",
   "outputs": [
    {
     "data": {
      "text/plain": [
       "            team  value\n",
       "0  example_team1    295\n",
       "1  example_team2     96\n",
       "2  example_team3      0"
      ],
      "text/html": [
       "<div>\n",
       "<style scoped>\n",
       "    .dataframe tbody tr th:only-of-type {\n",
       "        vertical-align: middle;\n",
       "    }\n",
       "\n",
       "    .dataframe tbody tr th {\n",
       "        vertical-align: top;\n",
       "    }\n",
       "\n",
       "    .dataframe thead th {\n",
       "        text-align: right;\n",
       "    }\n",
       "</style>\n",
       "<table border=\"1\" class=\"dataframe\">\n",
       "  <thead>\n",
       "    <tr style=\"text-align: right;\">\n",
       "      <th></th>\n",
       "      <th>team</th>\n",
       "      <th>value</th>\n",
       "    </tr>\n",
       "  </thead>\n",
       "  <tbody>\n",
       "    <tr>\n",
       "      <th>0</th>\n",
       "      <td>example_team1</td>\n",
       "      <td>295</td>\n",
       "    </tr>\n",
       "    <tr>\n",
       "      <th>1</th>\n",
       "      <td>example_team2</td>\n",
       "      <td>96</td>\n",
       "    </tr>\n",
       "    <tr>\n",
       "      <th>2</th>\n",
       "      <td>example_team3</td>\n",
       "      <td>0</td>\n",
       "    </tr>\n",
       "  </tbody>\n",
       "</table>\n",
       "</div>"
      ]
     },
     "execution_count": 19,
     "metadata": {},
     "output_type": "execute_result"
    }
   ],
   "execution_count": 19
  },
  {
   "metadata": {
    "ExecuteTime": {
     "end_time": "2024-11-19T18:29:33.113014Z",
     "start_time": "2024-11-19T18:29:33.108395Z"
    }
   },
   "cell_type": "code",
   "source": [
    "top_3_debuffed_teams = stats[stats.stat_name == \"Total_debuffs_received\"].groupby([\"team\"]).sum().sort_values(by=\"value\", ascending=False).reset_index()[[\"team\", \"value\"]].head(3)\n",
    "top_3_debuffed_teams"
   ],
   "id": "3c624e8d1e3eb7db",
   "outputs": [
    {
     "data": {
      "text/plain": [
       "            team  value\n",
       "0  example_team3    417\n",
       "1  example_team1    353\n",
       "2  example_team2    322"
      ],
      "text/html": [
       "<div>\n",
       "<style scoped>\n",
       "    .dataframe tbody tr th:only-of-type {\n",
       "        vertical-align: middle;\n",
       "    }\n",
       "\n",
       "    .dataframe tbody tr th {\n",
       "        vertical-align: top;\n",
       "    }\n",
       "\n",
       "    .dataframe thead th {\n",
       "        text-align: right;\n",
       "    }\n",
       "</style>\n",
       "<table border=\"1\" class=\"dataframe\">\n",
       "  <thead>\n",
       "    <tr style=\"text-align: right;\">\n",
       "      <th></th>\n",
       "      <th>team</th>\n",
       "      <th>value</th>\n",
       "    </tr>\n",
       "  </thead>\n",
       "  <tbody>\n",
       "    <tr>\n",
       "      <th>0</th>\n",
       "      <td>example_team3</td>\n",
       "      <td>417</td>\n",
       "    </tr>\n",
       "    <tr>\n",
       "      <th>1</th>\n",
       "      <td>example_team1</td>\n",
       "      <td>353</td>\n",
       "    </tr>\n",
       "    <tr>\n",
       "      <th>2</th>\n",
       "      <td>example_team2</td>\n",
       "      <td>322</td>\n",
       "    </tr>\n",
       "  </tbody>\n",
       "</table>\n",
       "</div>"
      ]
     },
     "execution_count": 20,
     "metadata": {},
     "output_type": "execute_result"
    }
   ],
   "execution_count": 20
  },
  {
   "metadata": {
    "ExecuteTime": {
     "end_time": "2024-11-19T18:30:37.270154Z",
     "start_time": "2024-11-19T18:30:37.263494Z"
    }
   },
   "cell_type": "code",
   "source": [
    "top3_moves_used = stats[stats.stat_name == \"Total_moves_used\"].groupby([\"team\"]).sum().sort_values(by=\"value\", ascending=False).reset_index()[[\"team\", \"value\"]].head(3)\n",
    "top3_moves_used"
   ],
   "id": "c319f95b58e8e0b8",
   "outputs": [
    {
     "data": {
      "text/plain": [
       "            team  value\n",
       "0  example_team1   1675\n",
       "1  example_team4   1522\n",
       "2  example_team2   1312"
      ],
      "text/html": [
       "<div>\n",
       "<style scoped>\n",
       "    .dataframe tbody tr th:only-of-type {\n",
       "        vertical-align: middle;\n",
       "    }\n",
       "\n",
       "    .dataframe tbody tr th {\n",
       "        vertical-align: top;\n",
       "    }\n",
       "\n",
       "    .dataframe thead th {\n",
       "        text-align: right;\n",
       "    }\n",
       "</style>\n",
       "<table border=\"1\" class=\"dataframe\">\n",
       "  <thead>\n",
       "    <tr style=\"text-align: right;\">\n",
       "      <th></th>\n",
       "      <th>team</th>\n",
       "      <th>value</th>\n",
       "    </tr>\n",
       "  </thead>\n",
       "  <tbody>\n",
       "    <tr>\n",
       "      <th>0</th>\n",
       "      <td>example_team1</td>\n",
       "      <td>1675</td>\n",
       "    </tr>\n",
       "    <tr>\n",
       "      <th>1</th>\n",
       "      <td>example_team4</td>\n",
       "      <td>1522</td>\n",
       "    </tr>\n",
       "    <tr>\n",
       "      <th>2</th>\n",
       "      <td>example_team2</td>\n",
       "      <td>1312</td>\n",
       "    </tr>\n",
       "  </tbody>\n",
       "</table>\n",
       "</div>"
      ]
     },
     "execution_count": 21,
     "metadata": {},
     "output_type": "execute_result"
    }
   ],
   "execution_count": 21
  },
  {
   "metadata": {
    "ExecuteTime": {
     "end_time": "2024-11-19T18:31:08.300272Z",
     "start_time": "2024-11-19T18:31:08.293247Z"
    }
   },
   "cell_type": "code",
   "source": [
    "top3_count_struggle = stats[stats.stat_name == \"Count_struggle\"].groupby([\"team\"]).sum().sort_values(by=\"value\", ascending=False).reset_index()[[\"team\", \"value\"]].head(3)\n",
    "top3_count_struggle"
   ],
   "id": "292272d92f5f7b07",
   "outputs": [
    {
     "data": {
      "text/plain": [
       "            team  value\n",
       "0  example_team1      0\n",
       "1  example_team2      0\n",
       "2  example_team3      0"
      ],
      "text/html": [
       "<div>\n",
       "<style scoped>\n",
       "    .dataframe tbody tr th:only-of-type {\n",
       "        vertical-align: middle;\n",
       "    }\n",
       "\n",
       "    .dataframe tbody tr th {\n",
       "        vertical-align: top;\n",
       "    }\n",
       "\n",
       "    .dataframe thead th {\n",
       "        text-align: right;\n",
       "    }\n",
       "</style>\n",
       "<table border=\"1\" class=\"dataframe\">\n",
       "  <thead>\n",
       "    <tr style=\"text-align: right;\">\n",
       "      <th></th>\n",
       "      <th>team</th>\n",
       "      <th>value</th>\n",
       "    </tr>\n",
       "  </thead>\n",
       "  <tbody>\n",
       "    <tr>\n",
       "      <th>0</th>\n",
       "      <td>example_team1</td>\n",
       "      <td>0</td>\n",
       "    </tr>\n",
       "    <tr>\n",
       "      <th>1</th>\n",
       "      <td>example_team2</td>\n",
       "      <td>0</td>\n",
       "    </tr>\n",
       "    <tr>\n",
       "      <th>2</th>\n",
       "      <td>example_team3</td>\n",
       "      <td>0</td>\n",
       "    </tr>\n",
       "  </tbody>\n",
       "</table>\n",
       "</div>"
      ]
     },
     "execution_count": 22,
     "metadata": {},
     "output_type": "execute_result"
    }
   ],
   "execution_count": 22
  },
  {
   "metadata": {},
   "cell_type": "code",
   "outputs": [],
   "execution_count": null,
   "source": "",
   "id": "faa380e78ece8162"
  }
 ],
 "metadata": {
  "kernelspec": {
   "display_name": "Python 3",
   "language": "python",
   "name": "python3"
  },
  "language_info": {
   "codemirror_mode": {
    "name": "ipython",
    "version": 2
   },
   "file_extension": ".py",
   "mimetype": "text/x-python",
   "name": "python",
   "nbconvert_exporter": "python",
   "pygments_lexer": "ipython2",
   "version": "2.7.6"
  }
 },
 "nbformat": 4,
 "nbformat_minor": 5
}
